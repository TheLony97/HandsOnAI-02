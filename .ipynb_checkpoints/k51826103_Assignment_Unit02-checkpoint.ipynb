{
 "cells": [
  {
   "cell_type": "markdown",
   "metadata": {},
   "source": [
    "<h1 style=\"color:rgb(0,120,170)\">Hands-on AI I</h1>\n",
    "<h2 style=\"color:rgb(0,120,170)\">Unit 1, Unit 2 (Assignment) --  Recap Hands-on AI I </h2>"
   ]
  },
  {
   "cell_type": "markdown",
   "metadata": {},
   "source": [
    "**Authors**: Brandstetter, Schäfl<br>\n",
    "**Date**: 03-16-2019\n",
    "\n",
    "This file is part of the \"Hands-on AI I\" lecture material. The following copyright statement applies \n",
    "to all code within this file.\n",
    "\n",
    "**Copyright statement**: <br>\n",
    "This  material,  no  matter  whether  in  printed  or  electronic  form,  may  be  used  for personal  and non-commercial educational use only.  Any reproduction of this manuscript, no matter whether as a whole or in parts, no matter whether in printed or in electronic form, requires explicit prior acceptance of the authors."
   ]
  },
  {
   "cell_type": "markdown",
   "metadata": {},
   "source": [
    "# Exercise 0\n",
    "\n",
    "- Import the same modules as discussed in the lecture notebook\n",
    "- Check if your model versions are correct"
   ]
  },
  {
   "cell_type": "code",
   "execution_count": 1,
   "metadata": {},
   "outputs": [],
   "source": [
    "import u2_utils as u2\n",
    "import matplotlib.pyplot as plt\n",
    "import numpy as np\n",
    "import pandas as pd\n",
    "import torch\n",
    "import torch.nn as nn\n",
    "import torch.optim as optim\n",
    "import xgboost as xgb\n",
    "\n",
    "from functools import partial\n",
    "from IPython.display import HTML\n",
    "from pathlib import Path\n",
    "from PIL import Image, ImageOps\n",
    "from scipy import signal\n",
    "from sklearn.ensemble import RandomForestClassifier\n",
    "from sklearn.linear_model import LinearRegression\n",
    "from sklearn.naive_bayes import GaussianNB\n",
    "from sklearn.neighbors import KNeighborsClassifier\n",
    "from sklearn.pipeline import Pipeline\n",
    "from sklearn.preprocessing import PolynomialFeatures\n",
    "from torch.utils.data import DataLoader, TensorDataset"
   ]
  },
  {
   "cell_type": "code",
   "execution_count": 2,
   "metadata": {},
   "outputs": [
    {
     "name": "stdout",
     "output_type": "stream",
     "text": [
      "Installed Python version: 3.6 (✗)\n",
      "Installed numpy version: 1.18.2 (✓)\n",
      "Installed pandas version: 1.0.3 (✓)\n",
      "Installed PyTorch version: 1.4.0 (✓)\n",
      "Installed scikit-learn version: 0.22.1 (✓)\n",
      "Installed scipy version: 1.4.1 (✓)\n",
      "Installed matplotlib version: 3.2.1 (✓)\n",
      "Installed seaborn version: 0.10.0 (✓)\n",
      "Installed PIL version: 7.0.0 (✓)\n"
     ]
    }
   ],
   "source": [
    "u2.check_module_versions()"
   ]
  },
  {
   "cell_type": "markdown",
   "metadata": {},
   "source": [
    "Having difficulties such that jupyter detects the python3.7 kernel"
   ]
  },
  {
   "cell_type": "markdown",
   "metadata": {},
   "source": [
    "# Exercise 1\n",
    "\n",
    "- Load the Fashion MNIST dataset.\n",
    "- Display the first 5 elements of the dataset.\n",
    "- Create a training and a test dataset (ratio 7:3)\n",
    "- Print the size of the full data set, the size of the training data set and the size of the test data set"
   ]
  },
  {
   "cell_type": "code",
   "execution_count": 3,
   "metadata": {},
   "outputs": [],
   "source": [
    "# your code for loading and displaying the Fashion MNIST dataset goes here"
   ]
  },
  {
   "cell_type": "code",
   "execution_count": 4,
   "metadata": {},
   "outputs": [],
   "source": [
    "np.random.seed(42)\n",
    "# your subsequent code goes here"
   ]
  },
  {
   "cell_type": "markdown",
   "metadata": {},
   "source": [
    "# Exercise 2\n",
    "\n",
    "- Downproject the training data to two dimensions \n",
    "- Visualize the ten classes in this downprojection\n",
    "- For the remaining exercise create two data sets (fashion_mnist_train_pca, fashion_mnist_test_pca) which are downprojected versions of the original dataset. NOTA BENE: the downprojected dimension should be 10 now!"
   ]
  },
  {
   "cell_type": "code",
   "execution_count": 5,
   "metadata": {},
   "outputs": [],
   "source": [
    "np.random.seed(seed=42)\n",
    "# your code goes here"
   ]
  },
  {
   "cell_type": "code",
   "execution_count": 6,
   "metadata": {},
   "outputs": [],
   "source": [
    "np.random.seed(seed=42)\n",
    "# your code goes here"
   ]
  },
  {
   "cell_type": "markdown",
   "metadata": {},
   "source": [
    "# Exercise 3\n",
    "\n",
    "- Run the $k$-nearest neighbor classifier for $k$ = 1, 2, 4, 8, 16, 32, 64, 128, 256, 512 \n",
    "- Report the results on the test dataset, what do you observe?\n",
    "- Run the Naive Bayes classifier and report the results on the training and on the test dataset"
   ]
  },
  {
   "cell_type": "code",
   "execution_count": 7,
   "metadata": {},
   "outputs": [],
   "source": [
    "np.random.seed(42)\n",
    "k_range = []\n",
    "# your code goes here"
   ]
  },
  {
   "cell_type": "code",
   "execution_count": 8,
   "metadata": {},
   "outputs": [],
   "source": [
    "np.random.seed(42)\n",
    "# your code goes here"
   ]
  },
  {
   "cell_type": "markdown",
   "metadata": {},
   "source": [
    "# Exercise 4\n",
    "\n",
    "- Run the Random Forest classifier for $k$ = 1, 2, 4, 8, 16, 32, 64, 128, 256, 512 \n",
    "- Report the results on the test dataset, what do you observe?\n",
    "- Run the XGBoost classifier and report the results on the training and on the test dataset"
   ]
  },
  {
   "cell_type": "code",
   "execution_count": 9,
   "metadata": {},
   "outputs": [],
   "source": [
    "np.random.seed(42)\n",
    "# your code goes here"
   ]
  },
  {
   "cell_type": "code",
   "execution_count": 10,
   "metadata": {},
   "outputs": [],
   "source": [
    "np.random.seed(42)\n",
    "# your code goes here"
   ]
  },
  {
   "cell_type": "markdown",
   "metadata": {},
   "source": [
    "# Exercise 5\n",
    "\n",
    "- Write a Python function for the following function (which gets a Weierstrass function for $n\\rightarrow\\infty$):\n",
    "\\begin{align}\n",
    "    &f(x) = \\sum_{n=1}^{55} \\frac{2^k \\sin(2^k x)}{3^k}\n",
    "\\end{align}\n",
    "\n",
    "- Plot the function. Additionally, generate 300 random samples and evaluate the function in the same plot.\n",
    "- Fit the function with the polynomials of degree 5, 10, 20, 50, 100. Which polynomial describes the data best? (DISCUSS) Plot all the information in one plot."
   ]
  },
  {
   "cell_type": "code",
   "execution_count": 12,
   "metadata": {},
   "outputs": [],
   "source": [
    "def function(x):\n",
    "    # your function goes here\n",
    "    return"
   ]
  },
  {
   "cell_type": "code",
   "execution_count": null,
   "metadata": {},
   "outputs": [],
   "source": [
    "# your plot of random generated samples and the evaluation of the Weierstrass-like function goes here"
   ]
  },
  {
   "cell_type": "code",
   "execution_count": null,
   "metadata": {},
   "outputs": [],
   "source": [
    "np.random.seed(42)\n",
    "degrees = []\n",
    "\n",
    "# your plot"
   ]
  },
  {
   "cell_type": "markdown",
   "metadata": {},
   "source": [
    "# Exercise 6\n",
    "\n",
    "- Read in the image 'horse.jpg' and turn it into a greyscale image\n",
    "- Apply the following filters:\n",
    "\\begin{equation}G_x = \\left( \n",
    "    \\begin{array}{rrrrr}                                \n",
    "        -2 & -1 & 0.0 & 1 & 2 \\\\\n",
    "        -2 & -1 & 0.0 & 1 & 2 \\\\\n",
    "        -2 & -1 & 0.0 & 1 & 2 \\\\\n",
    "        -2 & -1 & 0.0 & 1 & 2 \\\\\n",
    "        -2 & -1 & 0.0 & 1 & 2\n",
    "    \\end{array}\\right)\n",
    "\\end{equation}\n",
    "\n",
    "\\begin{equation}G_y = \\left( \n",
    "    \\begin{array}{rrrrr}                                \n",
    "         -2 &  -2 &  -2 &  -2  &  -2  \\\\\n",
    "         -1 &  -1 &  -1 &  -1  &  -1  \\\\\n",
    "        0.0 & 0.0 & 0.0 & 0.0  & 0.0  \\\\\n",
    "          1 &   1 &   1 &   1  &   1  \\\\\n",
    "          2 &   2 &   2 &   2  &   2\n",
    "    \\end{array}\\right)\n",
    "\\end{equation}\n",
    "\n",
    "- Apply the ReLU activation function to \"switch\" pixels on and off\n",
    "- Make a max pool operation with kernel-size 8\n",
    "- Make 7 plots: the greyscale image, an image with $G_x$ applied, an image with $G_y$ applied, an image with $G_x$+ReLU, an iamge with $G_y$+ReLU, an image with $G_x$+ReLU+maxpool, and an iamge with $G_y$+ReLU+maxpool"
   ]
  },
  {
   "cell_type": "code",
   "execution_count": null,
   "metadata": {},
   "outputs": [],
   "source": [
    "# your kernels/filters go here"
   ]
  },
  {
   "cell_type": "code",
   "execution_count": null,
   "metadata": {},
   "outputs": [],
   "source": [
    "# your plotting code goes here"
   ]
  },
  {
   "cell_type": "markdown",
   "metadata": {},
   "source": [
    "# Exercise 7\n",
    "\n",
    "- Implement the following convolutional network architecture: <br>\n",
    "1) one convolutional layer with 10 kernels and kernel size of 5 <br>\n",
    "2) a ReLU activation function <br>\n",
    "3) one pooling layer with which max pools out of 2 times 2 pixels <br>\n",
    "4) one convolutional layer with 20 kernels and kernel size of 5 <br>\n",
    "5) a ReLU activation function <br>\n",
    "6) one pooling layer with which max pools out of 2 times 2 pixels <br>\n",
    "7) one fully connected layer with 200 output units <br>\n",
    "8) a ReLU activation function <br>\n",
    "9) one fully connected layer with 200 input units and 10 output units <br><br>\n",
    "\n",
    "- Run your CNN on the complete Fashion MNIST dataset for 5 epochs\n",
    "- Report your results on the training set after each epoch\n",
    "- Run you final model on the test set, also report you results"
   ]
  },
  {
   "cell_type": "code",
   "execution_count": null,
   "metadata": {},
   "outputs": [],
   "source": [
    "class your_CNN(nn.Module):\n",
    "    \n",
    "    def __init__(self):\n",
    "        super(your_CNN, self).__init__()\n",
    "        \n",
    "        # your layers go here \n",
    "        \n",
    "\n",
    "    def forward(self, x):\n",
    "        \n",
    "        # your forward pass goes here\n",
    "        \n",
    "        return torch.log_softmax(x, dim=1)"
   ]
  },
  {
   "cell_type": "code",
   "execution_count": null,
   "metadata": {},
   "outputs": [],
   "source": [
    "image_width = int(np.sqrt(len(fashion_mnist_train.iloc[0])))\n",
    "\n",
    "# Create instance of Dataloader (training set).\n",
    "fashion_mnist_loader_train = DataLoader(TensorDataset(\n",
    "    torch.from_numpy(fashion_mnist_train.drop(columns=[r'item_type']).values.astype(\n",
    "        dtype=np.float32)).unsqueeze(1).reshape(len(fashion_mnist_train), 1, image_width, image_width),\n",
    "    torch.from_numpy(fashion_mnist_train[r'item_type'].values.astype(dtype=np.long))\n",
    "), batch_size=128, shuffle=True, drop_last=False)\n",
    "\n",
    "# Create instance of Dataloader (test set).\n",
    "fashion_mnist_loader_test = DataLoader(TensorDataset(\n",
    "    torch.from_numpy(fashion_mnist_test.drop(columns=[r'item_type']).values.astype(\n",
    "        dtype=np.float32)).unsqueeze(1).reshape(len(fashion_mnist_test), 1, image_width, image_width),\n",
    "    torch.from_numpy(fashion_mnist_test[r'item_type'].values.astype(dtype=np.long))\n",
    "), batch_size=128, shuffle=False, drop_last=False)"
   ]
  },
  {
   "cell_type": "code",
   "execution_count": null,
   "metadata": {},
   "outputs": [],
   "source": [
    "np.random.seed(42)\n",
    "torch.manual_seed(42)\n",
    "\n",
    "target_device = torch.device(r'cuda' if torch.cuda.is_available() else r'cpu')\n",
    "cnn_model = your_CNN().to(target_device)\n",
    "optimizer = optim.Adam(cnn_model.parameters(), lr=1e-3)\n",
    "\n",
    "# your training and evaluation goes here\n"
   ]
  }
 ],
 "metadata": {
  "kernelspec": {
   "display_name": "Python 3",
   "language": "python",
   "name": "python3"
  },
  "language_info": {
   "codemirror_mode": {
    "name": "ipython",
    "version": 3
   },
   "file_extension": ".py",
   "mimetype": "text/x-python",
   "name": "python",
   "nbconvert_exporter": "python",
   "pygments_lexer": "ipython3",
   "version": "3.6.9"
  }
 },
 "nbformat": 4,
 "nbformat_minor": 2
}
